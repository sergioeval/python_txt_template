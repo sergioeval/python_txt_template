{
 "cells": [
  {
   "cell_type": "code",
   "execution_count": 1,
   "metadata": {},
   "outputs": [],
   "source": [
    "user_question = 'Here is the user question?'"
   ]
  },
  {
   "cell_type": "code",
   "execution_count": 2,
   "metadata": {},
   "outputs": [],
   "source": [
    "my_data = '''\n",
    "Here we have a lot of data \n",
    "Here we have a lot of data \n",
    "Here we have a lot of data \n",
    "Here we have a lot of data \n",
    "Here we have a lot of data \n",
    "Here we have a lot of data \n",
    "Here we have a lot of data \n",
    "Here we have a lot of data \n",
    "Here we have a lot of data \n",
    "Here we have a lot of data \n",
    "Here we have a lot of data \n",
    "Here we have a lot of data \n",
    "'''"
   ]
  },
  {
   "cell_type": "code",
   "execution_count": 3,
   "metadata": {},
   "outputs": [],
   "source": [
    "# reat template \n",
    "with open('template.txt', mode='r') as f:\n",
    "    template = f.read()\n",
    "    f.close()"
   ]
  },
  {
   "cell_type": "code",
   "execution_count": 5,
   "metadata": {},
   "outputs": [
    {
     "name": "stdout",
     "output_type": "stream",
     "text": [
      "Here is a text file \n",
      "That I want to use as a Template\n",
      "\n",
      "Here is another variable\n",
      "{my_data}\n",
      "\n",
      "Here is a Variable\n",
      "{user_question}\n",
      "\n",
      "\n"
     ]
    }
   ],
   "source": [
    "print(template)"
   ]
  },
  {
   "cell_type": "code",
   "execution_count": 6,
   "metadata": {},
   "outputs": [
    {
     "name": "stdout",
     "output_type": "stream",
     "text": [
      "Here is a text file \n",
      "That I want to use as a Template\n",
      "\n",
      "Here is another variable\n",
      "\n",
      "Here we have a lot of data \n",
      "Here we have a lot of data \n",
      "Here we have a lot of data \n",
      "Here we have a lot of data \n",
      "Here we have a lot of data \n",
      "Here we have a lot of data \n",
      "Here we have a lot of data \n",
      "Here we have a lot of data \n",
      "Here we have a lot of data \n",
      "Here we have a lot of data \n",
      "Here we have a lot of data \n",
      "Here we have a lot of data \n",
      "\n",
      "\n",
      "Here is a Variable\n",
      "Here is the user question?\n",
      "\n",
      "\n"
     ]
    }
   ],
   "source": [
    "template_formated = template.format(my_data=my_data, user_question=user_question)\n",
    "print(template_formated)"
   ]
  }
 ],
 "metadata": {
  "kernelspec": {
   "display_name": "p311_general",
   "language": "python",
   "name": "python3"
  },
  "language_info": {
   "codemirror_mode": {
    "name": "ipython",
    "version": 3
   },
   "file_extension": ".py",
   "mimetype": "text/x-python",
   "name": "python",
   "nbconvert_exporter": "python",
   "pygments_lexer": "ipython3",
   "version": "3.11.5"
  }
 },
 "nbformat": 4,
 "nbformat_minor": 2
}
